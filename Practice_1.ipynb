{
  "cells": [
    {
      "cell_type": "markdown",
      "metadata": {
        "id": "LNCNjgXgRYC9"
      },
      "source": [
        "### Dataset"
      ]
    },
    {
      "cell_type": "code",
      "execution_count": null,
      "metadata": {
        "ExecuteTime": {
          "end_time": "2021-11-15T08:39:29.731701Z",
          "start_time": "2021-11-15T08:39:29.723720Z"
        },
        "id": "Kw6jneCvLQQm"
      },
      "outputs": [],
      "source": [
        "planets = [ 'Mercury', 'Venus', 'Earth', 'Mars', 'Jupiter', 'Saturn', 'Uranus', 'Neptune', 'Pluto' ]\n",
        "sunDist = [ 57.9, 108.2, 149.6, 227.9, 778.3, 1427, 2870, 4497, 5900 ]\n",
        "revolut = [ 88, 224.7, 365.2, 687, 4328, 10752, 651160, 1020707, 1338090 ]\n",
        "satsNum = [ 0, 0, 1, 2, 63,  56, 27, 13, 3 ]\n",
        "dlabels = [ 'Planet', 'Distance from the Sun', 'Duration of the year', 'Number of satellites' ]"
      ]
    },
    {
      "cell_type": "markdown",
      "metadata": {
        "id": "VVmDZcYqLNBh"
      },
      "source": [
        "### Exercise 1\n",
        "\n",
        "Print a list of planets sorted according to their numer of satellites (from low to high).\n",
        "(Therea are multiple solutions. Provide one solution writing your own sorting method (e.g. Bubble Sort) and one using advanced list manipulation functionalities of python and lambda functions for sorting.)"
      ]
    },
    {
      "cell_type": "markdown",
      "metadata": {
        "id": "xbjSPfPLbAjr"
      },
      "source": [
        "#### Solution"
      ]
    },
    {
      "cell_type": "code",
      "execution_count": null,
      "metadata": {
        "ExecuteTime": {
          "end_time": "2021-11-15T08:44:58.242524Z",
          "start_time": "2021-11-15T08:44:58.220573Z"
        },
        "id": "stXEFF3GjXsp",
        "outputId": "884341b2-3495-4609-930c-4aab04ea5170",
        "colab": {
          "base_uri": "https://localhost:8080/"
        }
      },
      "outputs": [
        {
          "output_type": "execute_result",
          "data": {
            "text/plain": [
              "['Mercury',\n",
              " 'Venus',\n",
              " 'Earth',\n",
              " 'Mars',\n",
              " 'Pluto',\n",
              " 'Neptune',\n",
              " 'Uranus',\n",
              " 'Saturn',\n",
              " 'Jupiter']"
            ]
          },
          "metadata": {},
          "execution_count": 50
        }
      ],
      "source": [
        "def sort_bubble(planets, satsNum):\n",
        "    swap = True\n",
        "    while swap:\n",
        "        swap = False\n",
        "        for i1 in range(len(planets)-1):\n",
        "            i2 = i1+1\n",
        "            if satsNum[i1] > satsNum[i2]:\n",
        "                p1, s1 = planets[i1], satsNum[i1] # Save information before swapping\n",
        "                planets[i1], planets[i2] = planets[i2], p1 # Swap planets\n",
        "                satsNum[i1], satsNum[i2] = satsNum[i2], s1 # Swap satsNum\n",
        "                swap = True\n",
        "    return planets\n",
        "\n",
        "sort_bubble(planets.copy(), satsNum.copy())"
      ]
    },
    {
      "cell_type": "code",
      "execution_count": null,
      "metadata": {
        "id": "sys5LpBDcdo-",
        "outputId": "0a30527e-9713-4e9e-c29f-8fe6a4a36643",
        "colab": {
          "base_uri": "https://localhost:8080/"
        }
      },
      "outputs": [
        {
          "output_type": "execute_result",
          "data": {
            "text/plain": [
              "['Mercury',\n",
              " 'Venus',\n",
              " 'Earth',\n",
              " 'Mars',\n",
              " 'Pluto',\n",
              " 'Neptune',\n",
              " 'Uranus',\n",
              " 'Saturn',\n",
              " 'Jupiter']"
            ]
          },
          "metadata": {},
          "execution_count": 51
        }
      ],
      "source": [
        "def sort_lambda(planets, satsNum):\n",
        "    dict1 = dict(zip(planets, satsNum))\n",
        "    dict1 = sorted(dict1.items(), key=lambda x: x[1])\n",
        "    return [x[0] for x in dict1]\n",
        "\n",
        "sort_lambda(planets.copy(), satsNum.copy())"
      ]
    },
    {
      "cell_type": "markdown",
      "metadata": {
        "id": "p4HcoPPplvCL"
      },
      "source": [
        "### Exercise 1b(onus)\n",
        "\n",
        "Extend the sorting code by allowing to specify a list of comparison functions and use it to sort the planets according to the number of letters in their name and their number of satellites.\n",
        "Hint: there are many features/methods that we didn't see, just get a look around (google it, look at python APIs) to discover all the functionalities you may need.\n"
      ]
    },
    {
      "cell_type": "markdown",
      "metadata": {
        "id": "uwm6FPD8-qD8"
      },
      "source": [
        "#### Solution"
      ]
    },
    {
      "cell_type": "code",
      "execution_count": null,
      "metadata": {
        "ExecuteTime": {
          "end_time": "2021-11-15T09:01:09.782338Z",
          "start_time": "2021-11-15T09:01:09.765387Z"
        },
        "id": "HdlnYOxw-aMm",
        "outputId": "0961030c-d956-4909-e762-99bcf7981e76",
        "colab": {
          "base_uri": "https://localhost:8080/"
        }
      },
      "outputs": [
        {
          "output_type": "execute_result",
          "data": {
            "text/plain": [
              "['Mars',\n",
              " 'Venus',\n",
              " 'Earth',\n",
              " 'Pluto',\n",
              " 'Uranus',\n",
              " 'Saturn',\n",
              " 'Mercury',\n",
              " 'Neptune',\n",
              " 'Jupiter']"
            ]
          },
          "metadata": {},
          "execution_count": 52
        }
      ],
      "source": [
        "sort_by_length = lambda x: len(x[0])\n",
        "sort_by_satsNum = lambda x: x[3]\n",
        "\n",
        "criteria = lambda x: (sort_by_length(x),sort_by_satsNum(x))\n",
        "\n",
        "l_specs_pianeti = [[planets[i],sunDist[i],revolut[i],satsNum[i]] for i in range(len(planets))]\n",
        "\n",
        "sorted_planets = l_specs_pianeti.sort(key=criteria)\n",
        "\n",
        "[x for x,y,z,t in l_specs_pianeti]"
      ]
    },
    {
      "cell_type": "markdown",
      "metadata": {
        "id": "7ds_3BdVXxLX"
      },
      "source": [
        "### Exercise 2\n",
        "\n",
        "Write a function planetData(pName) that takes the name of a planet and returns a dictionary with all the data for that planet, where the keys are the labels in dlabels and the values the relevant data\n",
        "\n",
        "Is the function robust to misspellings in the planet name? (Exception handling)"
      ]
    },
    {
      "cell_type": "markdown",
      "metadata": {
        "id": "95C9SqU3bVNr"
      },
      "source": [
        "#### Solution"
      ]
    },
    {
      "cell_type": "code",
      "execution_count": null,
      "metadata": {
        "id": "-LE2BkNC-lHn",
        "outputId": "24098d08-d26a-4a4c-816d-98c4ba650797",
        "colab": {
          "base_uri": "https://localhost:8080/"
        }
      },
      "outputs": [
        {
          "output_type": "execute_result",
          "data": {
            "text/plain": [
              "{'Planet': 'Jupiter',\n",
              " 'Distance from the Sun': 778.3,\n",
              " 'Duration of the year': 4328,\n",
              " 'Number of satellites': 63}"
            ]
          },
          "metadata": {},
          "execution_count": 53
        }
      ],
      "source": [
        "def planetData(pName):\n",
        "  pName_low = pName.lower()\n",
        "  for i, pl in enumerate(planets):\n",
        "    if pName_low == pl.lower():\n",
        "      dvalues = pl, sunDist[i], revolut[i], satsNum[i]\n",
        "      return dict(zip(dlabels, dvalues))\n",
        "\n",
        "  return None\n",
        "\n",
        "planetData('jupiter')"
      ]
    },
    {
      "cell_type": "markdown",
      "metadata": {
        "id": "86_bXG4L-aMo"
      },
      "source": [
        "### Exercise 3\n",
        "\n",
        "Define a class Planet that stores all the informations about a planet. Adapt the code you wrote for Exercises 1 and 2 to this new type. Further, define a method of the Planet class that takes as input a number of days and returns to how many years they correspond for the specific planet.\n",
        "\n"
      ]
    },
    {
      "cell_type": "markdown",
      "metadata": {
        "id": "6yllfwcKneB-"
      },
      "source": [
        "#### Solution"
      ]
    },
    {
      "cell_type": "code",
      "execution_count": null,
      "metadata": {
        "ExecuteTime": {
          "end_time": "2021-11-15T09:04:15.675987Z",
          "start_time": "2021-11-15T09:04:15.643082Z"
        },
        "id": "G3IaVl3s-aMq"
      },
      "outputs": [],
      "source": [
        "from math import pi, cos, sin\n",
        "\n",
        "class Planet:\n",
        "    def __init__(self, name, sunDist, revolut, satsNum):\n",
        "        self.name = name\n",
        "        self.sunDist = sunDist\n",
        "        self.revolut = revolut\n",
        "        self.satsNum = satsNum\n",
        "\n",
        "    def format_as_dict(self):\n",
        "        dlabels = [ 'Planet', 'Distance from the Sun', 'Duration of the year', 'Number of satellites' ]\n",
        "        dvalues = [self.name, self.sunDist, self.revolut, self.satsNum]\n",
        "        return dict(zip(dlabels, dvalues))\n",
        "\n",
        "    def days_to_years(self, days) -> float:\n",
        "        return days / self.revolut\n",
        "\n",
        "\n",
        "class PlanetarySystem:\n",
        "    def __init__(self, planets):\n",
        "        self.planets = planets\n",
        "\n",
        "    def sort_lambda(self):\n",
        "        self.planets = sorted(self.planets, key=lambda p_instance: p_instance.satsNum)\n",
        "\n",
        "    def planetData(self, pName):\n",
        "        pName_low = pName.lower()\n",
        "        for i, pl in enumerate(self.planets):\n",
        "            if pName_low == pl.name.lower():\n",
        "                return pl.format_as_dict()\n",
        "\n",
        "        return None\n",
        "\n",
        "    def positions(self, age):\n",
        "        planet_coords = {}\n",
        "\n",
        "        for planet in self.planets:\n",
        "            angle = (2*pi*age)/planet.revolut\n",
        "            x = cos(angle) * planet.sunDist\n",
        "            y = sin(angle) * planet.sunDist\n",
        "            planet_coords[planet.name] = round(x, 1), round(y, 1)\n",
        "\n",
        "        return planet_coords"
      ]
    },
    {
      "cell_type": "code",
      "execution_count": null,
      "metadata": {
        "id": "eca4kXh-qKNO",
        "outputId": "80be5e28-cf73-4cf1-a3a3-b8d4ad3137de",
        "colab": {
          "base_uri": "https://localhost:8080/"
        }
      },
      "outputs": [
        {
          "output_type": "execute_result",
          "data": {
            "text/plain": [
              "5.681818181818182"
            ]
          },
          "metadata": {},
          "execution_count": 55
        }
      ],
      "source": [
        "p = Planet('Mercury', 57.9, 88, 0)\n",
        "p.days_to_years(500)"
      ]
    },
    {
      "cell_type": "code",
      "execution_count": null,
      "metadata": {
        "id": "6sFXs2VvqKNO",
        "outputId": "0408a056-a446-4616-df99-a6b031fdc9a9",
        "colab": {
          "base_uri": "https://localhost:8080/"
        }
      },
      "outputs": [
        {
          "output_type": "stream",
          "name": "stdout",
          "text": [
            "[{'Planet': 'Mercury', 'Distance from the Sun': 57.9, 'Duration of the year': 88, 'Number of satellites': 0}, {'Planet': 'Venus', 'Distance from the Sun': 108.2, 'Duration of the year': 224.7, 'Number of satellites': 0}, {'Planet': 'Earth', 'Distance from the Sun': 149.6, 'Duration of the year': 365.2, 'Number of satellites': 1}, {'Planet': 'Mars', 'Distance from the Sun': 227.9, 'Duration of the year': 687, 'Number of satellites': 2}, {'Planet': 'Jupiter', 'Distance from the Sun': 778.3, 'Duration of the year': 4328, 'Number of satellites': 63}, {'Planet': 'Saturn', 'Distance from the Sun': 1427, 'Duration of the year': 10752, 'Number of satellites': 56}, {'Planet': 'Uranus', 'Distance from the Sun': 2870, 'Duration of the year': 651160, 'Number of satellites': 27}, {'Planet': 'Neptune', 'Distance from the Sun': 4497, 'Duration of the year': 1020707, 'Number of satellites': 13}, {'Planet': 'Pluto', 'Distance from the Sun': 5900, 'Duration of the year': 1338090, 'Number of satellites': 3}]\n",
            "[{'Planet': 'Mercury', 'Distance from the Sun': 57.9, 'Duration of the year': 88, 'Number of satellites': 0}, {'Planet': 'Venus', 'Distance from the Sun': 108.2, 'Duration of the year': 224.7, 'Number of satellites': 0}, {'Planet': 'Earth', 'Distance from the Sun': 149.6, 'Duration of the year': 365.2, 'Number of satellites': 1}, {'Planet': 'Mars', 'Distance from the Sun': 227.9, 'Duration of the year': 687, 'Number of satellites': 2}, {'Planet': 'Pluto', 'Distance from the Sun': 5900, 'Duration of the year': 1338090, 'Number of satellites': 3}, {'Planet': 'Neptune', 'Distance from the Sun': 4497, 'Duration of the year': 1020707, 'Number of satellites': 13}, {'Planet': 'Uranus', 'Distance from the Sun': 2870, 'Duration of the year': 651160, 'Number of satellites': 27}, {'Planet': 'Saturn', 'Distance from the Sun': 1427, 'Duration of the year': 10752, 'Number of satellites': 56}, {'Planet': 'Jupiter', 'Distance from the Sun': 778.3, 'Duration of the year': 4328, 'Number of satellites': 63}]\n"
          ]
        }
      ],
      "source": [
        "planet_instances = []\n",
        "\n",
        "for i in range(len(planets)):\n",
        "    p = Planet(planets[i], sunDist[i], revolut[i], satsNum[i])\n",
        "    planet_instances.append(p)\n",
        "\n",
        "planetary_system = PlanetarySystem(planet_instances)\n",
        "\n",
        "print([planet.format_as_dict() for planet in planetary_system.planets])\n",
        "\n",
        "planetary_system.sort_lambda()\n",
        "\n",
        "print([planet.format_as_dict() for planet in planetary_system.planets])\n",
        "\n",
        "\n",
        "\n",
        "\n",
        "\n",
        "\n"
      ]
    },
    {
      "cell_type": "code",
      "execution_count": null,
      "metadata": {
        "id": "lVKDRrEAqKNP",
        "outputId": "d606f2a2-b23b-4e2d-abf3-ffcd3fd89ad0",
        "colab": {
          "base_uri": "https://localhost:8080/"
        }
      },
      "outputs": [
        {
          "output_type": "execute_result",
          "data": {
            "text/plain": [
              "{'Planet': 'Jupiter',\n",
              " 'Distance from the Sun': 778.3,\n",
              " 'Duration of the year': 4328,\n",
              " 'Number of satellites': 63}"
            ]
          },
          "metadata": {},
          "execution_count": 57
        }
      ],
      "source": [
        "planetary_system.planetData('jupiter')"
      ]
    },
    {
      "cell_type": "markdown",
      "metadata": {
        "id": "wyZuwt5e-aMr"
      },
      "source": [
        "### Exercise 4\n",
        "\n",
        "Load Planets information directly from the file planets.txt and populate a list of Planet objects. Does this list work with all the functions you defined in Exercise 3?\n",
        "\n",
        "File content:\n",
        "\n",
        "```\n",
        "Planet, Distance from the Sun, Duration of the year, Number of satellites\n",
        "Mercury, 57.9, 88, 0\n",
        "Venus, 108.2, 224.7, 0\n",
        "Earth, 149.6, 365.2, 1\n",
        "Mars, 227.9, 687, 2\n",
        "Jupiter, 778.3, 4328, 63\n",
        "Saturn, 1427, 10752, 56\n",
        "Uranus, 2870, 651160, 27\n",
        "Neptune, 4497, 1020707, 13\n",
        "Pluto, 5900, 1338090, 3\n",
        "\n",
        "```"
      ]
    },
    {
      "cell_type": "markdown",
      "metadata": {
        "id": "-uqEXLaK-2C9"
      },
      "source": [
        "#### Solution"
      ]
    },
    {
      "cell_type": "code",
      "execution_count": null,
      "metadata": {
        "id": "7P_bCPO4-5G3",
        "outputId": "ba6000da-1381-4f31-bf04-e20a18a67184",
        "colab": {
          "base_uri": "https://localhost:8080/"
        }
      },
      "outputs": [
        {
          "output_type": "stream",
          "name": "stdout",
          "text": [
            "[{'Planet': 'Mercury', 'Distance from the Sun': 57.9, 'Duration of the year': 88.0, 'Number of satellites': 0.0}, {'Planet': 'Venus', 'Distance from the Sun': 108.2, 'Duration of the year': 224.7, 'Number of satellites': 0.0}, {'Planet': 'Earth', 'Distance from the Sun': 149.6, 'Duration of the year': 365.2, 'Number of satellites': 1.0}, {'Planet': 'Mars', 'Distance from the Sun': 227.9, 'Duration of the year': 687.0, 'Number of satellites': 2.0}, {'Planet': 'Pluto', 'Distance from the Sun': 5900.0, 'Duration of the year': 1338090.0, 'Number of satellites': 3.0}, {'Planet': 'Neptune', 'Distance from the Sun': 4497.0, 'Duration of the year': 1020707.0, 'Number of satellites': 13.0}, {'Planet': 'Uranus', 'Distance from the Sun': 2870.0, 'Duration of the year': 651160.0, 'Number of satellites': 27.0}, {'Planet': 'Saturn', 'Distance from the Sun': 1427.0, 'Duration of the year': 10752.0, 'Number of satellites': 56.0}, {'Planet': 'Jupiter', 'Distance from the Sun': 778.3, 'Duration of the year': 4328.0, 'Number of satellites': 63.0}]\n"
          ]
        }
      ],
      "source": [
        "planets1 = []\n",
        "\n",
        "with open('planets.txt', 'r') as pl_file:\n",
        "    next(pl_file) # Skip first line / header\n",
        "    for line in pl_file:\n",
        "        line = line.strip()\n",
        "        name, sunDist, revolut, satsNum = line.split(', ')\n",
        "        p = Planet(name, float(sunDist), float(revolut), float(satsNum))\n",
        "        planets1.append(p)\n",
        "\n",
        "planetary_system = PlanetarySystem(planets1)\n",
        "planetary_system.sort_lambda()\n",
        "\n",
        "print([planet.format_as_dict() for planet in planetary_system.planets])"
      ]
    },
    {
      "cell_type": "code",
      "execution_count": null,
      "metadata": {
        "id": "AhCOQLcOqKNQ",
        "colab": {
          "base_uri": "https://localhost:8080/"
        },
        "outputId": "10d98e4f-ed65-45a5-8eb6-c4b1b180fe3f"
      },
      "outputs": [
        {
          "output_type": "execute_result",
          "data": {
            "text/plain": [
              "{'Planet': 'Mars',\n",
              " 'Distance from the Sun': 227.9,\n",
              " 'Duration of the year': 687.0,\n",
              " 'Number of satellites': 2.0}"
            ]
          },
          "metadata": {},
          "execution_count": 59
        }
      ],
      "source": [
        "planetary_system.planetData('mars')"
      ]
    },
    {
      "cell_type": "markdown",
      "metadata": {
        "id": "rdzqWEL_-aMs"
      },
      "source": [
        "### Bonus exercise\n",
        "\n",
        "Create a class \"PlanetarySystem\" containing a list of planets. Define on it a method \"positions\" that given as input an age returns the bidimensional coordinates of the center of each planet. Assume the planets to have circular orbit and to be all colinear at time 0. (A bit of trigonometry may come into help to fine the position on the orbit :-) ) "
      ]
    },
    {
      "cell_type": "markdown",
      "metadata": {
        "id": "h_1h8cgC-6NR"
      },
      "source": [
        "#### Solution"
      ]
    },
    {
      "cell_type": "code",
      "execution_count": null,
      "metadata": {
        "id": "A-SntmjT-7vF",
        "colab": {
          "base_uri": "https://localhost:8080/"
        },
        "outputId": "0b475305-0d0f-483d-9ab1-a1831b72e3eb"
      },
      "outputs": [
        {
          "output_type": "execute_result",
          "data": {
            "text/plain": [
              "{'Mercury': (34.0, 46.8),\n",
              " 'Venus': (-76.4, -76.6),\n",
              " 'Earth': (149.6, 0.0),\n",
              " 'Mars': (-223.4, -44.9),\n",
              " 'Pluto': (5900.0, 10.1),\n",
              " 'Neptune': (4497.0, 10.1),\n",
              " 'Uranus': (2870.0, 10.1),\n",
              " 'Saturn': (1394.6, 302.2),\n",
              " 'Jupiter': (671.5, 393.6)}"
            ]
          },
          "metadata": {},
          "execution_count": 60
        }
      ],
      "source": [
        "planetary_system.positions(365.2)"
      ]
    }
  ],
  "metadata": {
    "colab": {
      "provenance": []
    },
    "kernelspec": {
      "display_name": "Python 3.10.3 64-bit ('cpdm-venv')",
      "language": "python",
      "name": "python3"
    },
    "language_info": {
      "codemirror_mode": {
        "name": "ipython",
        "version": 3
      },
      "file_extension": ".py",
      "mimetype": "text/x-python",
      "name": "python",
      "nbconvert_exporter": "python",
      "pygments_lexer": "ipython3",
      "version": "3.10.3"
    },
    "varInspector": {
      "cols": {
        "lenName": 16,
        "lenType": 16,
        "lenVar": 40
      },
      "kernels_config": {
        "python": {
          "delete_cmd_postfix": "",
          "delete_cmd_prefix": "del ",
          "library": "var_list.py",
          "varRefreshCmd": "print(var_dic_list())"
        },
        "r": {
          "delete_cmd_postfix": ") ",
          "delete_cmd_prefix": "rm(",
          "library": "var_list.r",
          "varRefreshCmd": "cat(var_dic_list()) "
        }
      },
      "types_to_exclude": [
        "module",
        "function",
        "builtin_function_or_method",
        "instance",
        "_Feature"
      ],
      "window_display": false
    },
    "vscode": {
      "interpreter": {
        "hash": "60f2d7a90683f1813c21f128288555917545141fc15e602618593f4e978d256f"
      }
    }
  },
  "nbformat": 4,
  "nbformat_minor": 0
}