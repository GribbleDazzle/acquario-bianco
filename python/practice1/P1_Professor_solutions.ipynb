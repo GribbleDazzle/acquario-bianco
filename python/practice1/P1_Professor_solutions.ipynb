{
 "cells": [
  {
   "cell_type": "markdown",
   "metadata": {},
   "source": [
    "### Dataset"
   ]
  },
  {
   "cell_type": "code",
   "execution_count": 2,
   "metadata": {},
   "outputs": [],
   "source": [
    "planets = [ 'Mercury', 'Venus', 'Earth', 'Mars', 'Jupiter', 'Saturn', 'Uranus', 'Neptune', 'Pluto' ]\n",
    "sunDist = [ 57.9, 108.2, 149.6, 227.9, 778.3, 1427, 2870, 4497, 5900 ]\n",
    "revolut = [ 88, 224.7, 365.2, 687, 4328, 10752, 651160, 1020707, 1338090 ]\n",
    "satsNum = [ 0, 0, 1, 2, 63,  56, 27, 13, 3 ]\n",
    "dlabels = [ 'Planet', 'Distance from the Sun', 'Duration of the year', 'Number of satellites' ]"
   ]
  },
  {
   "cell_type": "markdown",
   "metadata": {},
   "source": [
    "### Exercise 1\n",
    "Print a list of planets sorted according to their numer of satellites (from low to high). (Therea are multiple solutions. Provide one solution writing your own sorting method (e.g. Bubble Sort) and one using advanced list manipulation functionalities of python and lambda functions for sorting.)\n",
    "\n"
   ]
  },
  {
   "cell_type": "code",
   "execution_count": 3,
   "metadata": {},
   "outputs": [
    {
     "data": {
      "text/plain": [
       "[('Jupiter', 63),\n",
       " ('Saturn', 56),\n",
       " ('Uranus', 27),\n",
       " ('Neptune', 13),\n",
       " ('Pluto', 3),\n",
       " ('Mars', 2),\n",
       " ('Earth', 1),\n",
       " ('Mercury', 0),\n",
       " ('Venus', 0)]"
      ]
     },
     "execution_count": 3,
     "metadata": {},
     "output_type": "execute_result"
    }
   ],
   "source": [
    "l=list(zip(planets,satsNum))\n",
    "l.sort(key=lambda sel:-sel[1])\n",
    "l"
   ]
  },
  {
   "cell_type": "markdown",
   "metadata": {},
   "source": [
    "### Exercise 1b(onus)\n",
    "Extend the sorting code by allowing to specify a list of comparison functions and use it to sort the planets according to the number of letters in their name and their number of satellites. Hint: there are many features/methods that we didn't see, just get a look around (google it, look at python APIs) to discover all the functionalities you may need."
   ]
  },
  {
   "cell_type": "code",
   "execution_count": 4,
   "metadata": {},
   "outputs": [
    {
     "data": {
      "text/plain": [
       "[('Mars', 2),\n",
       " ('Venus', 0),\n",
       " ('Earth', 1),\n",
       " ('Pluto', 3),\n",
       " ('Uranus', 27),\n",
       " ('Saturn', 56),\n",
       " ('Mercury', 0),\n",
       " ('Neptune', 13),\n",
       " ('Jupiter', 63)]"
      ]
     },
     "execution_count": 4,
     "metadata": {},
     "output_type": "execute_result"
    }
   ],
   "source": [
    "l=list(zip(planets,satsNum))\n",
    "l.sort(key=lambda x:(len(x[0]),x[1]))\n",
    "l"
   ]
  },
  {
   "cell_type": "code",
   "execution_count": 7,
   "metadata": {},
   "outputs": [
    {
     "name": "stdin",
     "output_type": "stream",
     "text": [
      "Choice first criteria\n",
      " 0. alpha order\n",
      " 1. number sats\n",
      " 2. revolut\n",
      " 3. sun distant\n",
      " 4. number of letter\n",
      "\n",
      " 1\n",
      "Choice second criteria\n",
      " 0. alpha order\n",
      " 1. number sats\n",
      " 2. revolut\n",
      " 3. sun distant\n",
      " 4. number of letter\n",
      "\n",
      " 3\n"
     ]
    },
    {
     "data": {
      "text/plain": [
       "[('Mercury', 0, 88, 57.9, 7),\n",
       " ('Venus', 0, 224.7, 108.2, 5),\n",
       " ('Earth', 1, 365.2, 149.6, 5),\n",
       " ('Mars', 2, 687, 227.9, 4),\n",
       " ('Pluto', 3, 1338090, 5900, 5),\n",
       " ('Neptune', 13, 1020707, 4497, 7),\n",
       " ('Uranus', 27, 651160, 2870, 6),\n",
       " ('Saturn', 56, 10752, 1427, 6),\n",
       " ('Jupiter', 63, 4328, 778.3, 7)]"
      ]
     },
     "execution_count": 7,
     "metadata": {},
     "output_type": "execute_result"
    }
   ],
   "source": [
    "#supplied by the kindest, AR, and not actually compiled by the professor\n",
    "lenPl = [len(pl) for pl in planets]\n",
    "\n",
    "def satsOrd(planets,satsNum):\n",
    "  criteria1 = int(input('Choice first criteria\\n 0. alpha order\\n 1. number sats\\n 2. revolut\\n 3. sun distant\\n 4. number of letter\\n\\n'))\n",
    "  criteria2 = int(input('Choice second criteria\\n 0. alpha order\\n 1. number sats\\n 2. revolut\\n 3. sun distant\\n 4. number of letter\\n\\n'))\n",
    "\n",
    "  tup = sorted(zip(planets, satsNum, revolut, sunDist, lenPl), key=lambda x: (x[criteria1], x[criteria2]))\n",
    "  return tup\n",
    "\n",
    "satsOrd(planets, satsNum)"
   ]
  },
  {
   "cell_type": "markdown",
   "metadata": {},
   "source": [
    "### Exercise 2\n",
    "Write a function planetData(pName) that takes the name of a planet and returns a dictionary with all the data for that planet, where the keys are the labels in dlabels and the values the relevant data\n",
    "\n",
    "Is the function robust to misspellings in the planet name? (Exception handling)"
   ]
  },
  {
   "cell_type": "code",
   "execution_count": 5,
   "metadata": {},
   "outputs": [
    {
     "data": {
      "text/plain": [
       "{'sunDist': 57.9, 'revolut': 88}"
      ]
     },
     "execution_count": 5,
     "metadata": {},
     "output_type": "execute_result"
    }
   ],
   "source": [
    "def planetData(pName):\n",
    "  # pName = \"Earth\"\n",
    "  try:\n",
    "    idx = planets.index(pName)\n",
    "    return {'sunDist':sunDist[idx], 'revolut':revolut[idx]}\n",
    "  except ValueError:\n",
    "    print(\"Warning: check planet name\")\n",
    "    return None\n",
    "    \n",
    "planetData('Mercury')"
   ]
  },
  {
   "cell_type": "markdown",
   "metadata": {},
   "source": [
    "### Exercise 3\n",
    "Define a class Planet that stores all the informations about a planet. Adapt the code you wrote for Exercises 1 and 2 to this new type. Further, define a method of the Planet class that takes as input a number of days and returns to how many years they correspond for the specific planet.\n",
    "\n"
   ]
  },
  {
   "cell_type": "code",
   "execution_count": 6,
   "metadata": {},
   "outputs": [
    {
     "name": "stdout",
     "output_type": "stream",
     "text": [
      "[2.272727272727273, 0.8900756564307967, 0.547645125958379, 0.29112081513828236, 0.00014946677727208186, 0.00019594261624540638, 0.0003071441734750292, 0.018601190476190476, 0.04621072088724584]\n"
     ]
    }
   ],
   "source": [
    "# this is the one compiled by the professor, but not actually complete, since the conversion of previous functions to class\n",
    "# is missing\n",
    "class Planet:\n",
    "    def __init__(self, name, sun_dist, revolut, sats_num):\n",
    "        self.name=name\n",
    "        self.sun_dist=sun_dist\n",
    "        self.revolut=revolut\n",
    "        self.sats_num=sats_num\n",
    "    \n",
    "    def days_to_years(self, days):\n",
    "        return days/self.revolut\n",
    "\n",
    "planets_list=[Planet(*x)for x in zip(planets,sunDist, revolut, satsNum)]\n",
    "planets_list[1].__dict__\n",
    "\n",
    "planets_list.sort(key=lambda x:x.sats_num)\n",
    "fract_of_year=[p.days_to_years(200) for p in planets_list]\n",
    "print(fract_of_year)"
   ]
  },
  {
   "cell_type": "markdown",
   "metadata": {},
   "source": [
    "### Exercise 4\n",
    "Load Planets information directly from the file planets.txt and populate a list of Planet objects. Does this list work with all the functions you defined in Exercise 3?\n",
    "\n",
    "File content:\n",
    "```\n",
    "Planet, Distance from the Sun, Duration of the year, Number of satellites\n",
    "Mercury, 57.9, 88, 0\n",
    "Venus, 108.2, 224.7, 0\n",
    "Earth, 149.6, 365.2, 1\n",
    "Mars, 227.9, 687, 2\n",
    "Jupiter, 778.3, 4328, 63\n",
    "Saturn, 1427, 10752, 56\n",
    "Uranus, 2870, 651160, 27\n",
    "Neptune, 4497, 1020707, 13\n",
    "Pluto, 5900, 1338090, 3\n",
    "```"
   ]
  },
  {
   "cell_type": "code",
   "execution_count": 48,
   "metadata": {},
   "outputs": [
    {
     "name": "stdout",
     "output_type": "stream",
     "text": [
      "[0.23, 0.09, 0.05, 0.03, 0.0, 0.0, 0.0, 0.0, 0.0]\n"
     ]
    }
   ],
   "source": [
    "# not actually compiled by the professor\n",
    "header=True\n",
    "list_of_instances=[]\n",
    "with open(\"planets.txt\",\"r\") as pla:\n",
    "    for row in pla:\n",
    "        if header==True:  #skip the header\n",
    "            header=False\n",
    "            continue\n",
    "        row = row.strip() #remove the \\n at the end of each row\n",
    "        name, sunDist, revolut, satsNum = row.split(', ')\n",
    "        p = Planet(name, float(sunDist), float(revolut), float(satsNum))\n",
    "        list_of_instances.append(p)\n",
    "\n",
    "a=[round(pl.days_to_years(20),2) for pl in list_of_instances]\n",
    "print(a)"
   ]
  },
  {
   "cell_type": "markdown",
   "metadata": {},
   "source": [
    "### Bonus exercise\n",
    "Create a class \"PlanetarySystem\" containing a list of planets. Define on it a method \"positions\" that given as input an age returns the bidimensional coordinates of the center of each planet. Assume the planets to have circular orbit and to be all colinear at time 0. (A bit of trigonometry may come into help to fine the position on the orbit :-) )"
   ]
  },
  {
   "cell_type": "code",
   "execution_count": 56,
   "metadata": {},
   "outputs": [],
   "source": [
    "from math import pi,cos,sin"
   ]
  },
  {
   "cell_type": "code",
   "execution_count": 58,
   "metadata": {},
   "outputs": [
    {
     "data": {
      "text/plain": [
       "{'Mercury': (37.9, 43.8),\n",
       " 'Venus': (102.2, 35.6),\n",
       " 'Earth': (146.4, 30.7),\n",
       " 'Mars': (226.5, 25.0),\n",
       " 'Jupiter': (778.2, 13.6),\n",
       " 'Saturn': (1427.0, 10.0),\n",
       " 'Uranus': (2870.0, 0.3),\n",
       " 'Neptune': (4497.0, 0.3),\n",
       " 'Pluto': (5900.0, 0.3)}"
      ]
     },
     "execution_count": 58,
     "metadata": {},
     "output_type": "execute_result"
    }
   ],
   "source": [
    "# not actually compiled by the professor, taken the bare minimum from the main branch exercise to make it clearer what's actually required\n",
    "\n",
    "class PlanetarySystem:\n",
    "    def __init__(self, planets):\n",
    "        self.planets = planets\n",
    "\n",
    "    def positions(self, age):\n",
    "        planet_coords = {}\n",
    "\n",
    "        for planet in self.planets: # cycle every single instance stored in list_of_instances, which is a list of instances of \n",
    "                                    # the previous class, Planet\n",
    "            angle = (2*pi*age)/planet.revolut\n",
    "            x = cos(angle) * planet.sun_dist\n",
    "            y = sin(angle) * planet.sun_dist\n",
    "            planet_coords[planet.name] = round(x, 1), round(y, 1) #add to a dictionary the name of the planet and the rounded_to_the_first_decimal\n",
    "                                                                  #position in the cartesian plane\n",
    "\n",
    "        return planet_coords\n",
    "list_of_instances\n",
    "planetary_system = PlanetarySystem(list_of_instances) #let's feed the class the list of instances from before\n",
    "\n",
    "planetary_system.positions(12)\n",
    "\n",
    "\n"
   ]
  },
  {
   "cell_type": "code",
   "execution_count": null,
   "metadata": {},
   "outputs": [],
   "source": []
  }
 ],
 "metadata": {
  "kernelspec": {
   "display_name": "Python 3",
   "language": "python",
   "name": "python3"
  },
  "language_info": {
   "codemirror_mode": {
    "name": "ipython",
    "version": 3
   },
   "file_extension": ".py",
   "mimetype": "text/x-python",
   "name": "python",
   "nbconvert_exporter": "python",
   "pygments_lexer": "ipython3",
   "version": "3.8.5"
  }
 },
 "nbformat": 4,
 "nbformat_minor": 4
}
