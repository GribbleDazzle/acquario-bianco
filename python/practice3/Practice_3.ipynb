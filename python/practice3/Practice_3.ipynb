{
  "cells": [
    {
      "cell_type": "markdown",
      "metadata": {
        "id": "rB9aAg7dIBpm"
      },
      "source": [
        "Basic imports and setup"
      ]
    },
    {
      "cell_type": "code",
      "execution_count": null,
      "metadata": {
        "ExecuteTime": {
          "end_time": "2021-12-03T11:11:52.462777Z",
          "start_time": "2021-12-03T11:11:52.413840Z"
        },
        "id": "e2o3YqbLIEt3"
      },
      "outputs": [],
      "source": [
        "import numpy as np\n",
        "np.random.seed(12345)\n",
        "import matplotlib.pyplot as plt\n",
        "plt.rc('figure', figsize=(10, 6))\n",
        "np.set_printoptions(precision=4, suppress=True)\n",
        "import pandas as pd\n",
        "from pandas import Series, DataFrame, RangeIndex"
      ]
    },
    {
      "attachments": {},
      "cell_type": "markdown",
      "metadata": {
        "id": "gZinaiKb64dQ"
      },
      "source": [
        "### COVID-19 DATASET\n",
        "\n",
        "Where to find and how to retrieve it from your notebook<br>\n",
        "\n",
        "https://github.com/CSSEGISandData/COVID-19\n",
        "\n",
        "You can check the csv structure in the github page:<br>\n",
        "\n",
        "https://github.com/CSSEGISandData/COVID-19/tree/master/csse_covid_19_data\n",
        "\n",
        "### File naming convention\n",
        "MM-DD-YYYY.csv in UTC.\n",
        "\n",
        "### Field description\n",
        "**FIPS**: US only. Federal Information Processing Standards code that uniquely identifies counties within the USA.<br>\n",
        "**Admin2**: County name. US only.<br>\n",
        "**Province_State**: Province, state or dependency name.<br>\n",
        "**Country_Region**: Country, region or sovereignty name. The names of locations included on the Website correspond with the official designations used by the U.S. Department of State.<br>\n",
        "**Last Update**: MM/DD/YYYY HH:mm:ss (24 hour format, in UTC).<br>\n",
        "**Lat** and **Long_**: Dot locations on the dashboard. All points (except for Australia) shown on the map are based on geographic centroids, and are not representative of a specific address, building or any location at a spatial scale finer than a province/state. Australian dots are located at the centroid of the largest city in each state.<br>\n",
        "**Confirmed**: Confirmed cases include presumptive positive cases and probable cases, in accordance with CDC guidelines as of April 14.<br>\n",
        "**Deaths**: Death totals in the US include confirmed and probable, in accordance with CDC guidelines as of April 14.<br>\n",
        "**Recovered**: Recovered cases outside China are estimates based on local media reports, and state and local reporting when available, and therefore may be substantially lower than the true number.<br>\n",
        "**Active**: Active cases = total confirmed - total recovered - total deaths.<br>\n",
        "**Incidence_Rate**: Admin2 + Province_State + Country_Region.<br>\n",
        "**Case-Fatality Ratio (%)**: = confirmed cases per 100,000 persons.<br>\n",
        "**US Testing Rate**: = total test results per 100,000 persons. The \"total test results\" is equal to \"Total test results (Positive + Negative)\" from Covid Tracking Project.<br>\n",
        "**US Hospitalization Rate (%)**: = Total number hospitalized / Number confirmed cases. The \"Total number hospitalized\" is the \"Hospitalized – Cumulative\" count from Covid Tracking Project. The \"hospitalization rate\" and \"hospitalized - Cumulative\" data is only presented for those states which provide cumulative hospital data."
      ]
    },
    {
      "attachments": {},
      "cell_type": "markdown",
      "metadata": {
        "id": "8nZYziJi7e8F"
      },
      "source": [
        "### Reading the data"
      ]
    },
    {
      "cell_type": "code",
      "execution_count": null,
      "metadata": {
        "ExecuteTime": {
          "end_time": "2021-12-03T11:13:42.520364Z",
          "start_time": "2021-12-03T11:13:42.246493Z"
        },
        "id": "ZQ216hH87iZc"
      },
      "outputs": [],
      "source": [
        "# covid_data = pd.read_csv('https://raw.githubusercontent.com/CSSEGISandData/COVID-19/master/csse_covid_19_data/csse_covid_19_daily_reports/11-29-2022.csv')"
      ]
    },
    {
      "cell_type": "code",
      "execution_count": null,
      "metadata": {
        "ExecuteTime": {
          "end_time": "2021-12-03T11:13:52.342564Z",
          "start_time": "2021-12-03T11:13:52.317629Z"
        },
        "colab": {
          "base_uri": "https://localhost:8080/"
        },
        "id": "gk-iSPG88J1s",
        "outputId": "7ec98a5b-ceb2-4589-823c-9a8939081045"
      },
      "outputs": [],
      "source": [
        "# covid_data.info()"
      ]
    },
    {
      "attachments": {},
      "cell_type": "markdown",
      "metadata": {
        "id": "nO_cg-40LPwm"
      },
      "source": [
        "### Exercise 1\n",
        "\n",
        "Find, for each column (i.e. Series, i.e. Field) how many data are missing, find also how many data are missing in total.\n",
        "\n",
        "e.g.\n",
        "\n",
        "<pre>\n",
        "FIPS                    738\n",
        "Admin2                  734\n",
        "Province_State          174\n",
        "Country_Region            0\n",
        "Last_Update               0\n",
        "Lat                      90\n",
        "Long_                    90\n",
        "Confirmed                 0\n",
        "Deaths                    0\n",
        "Recovered              4006\n",
        "Active                 4006\n",
        "Combined_Key              0\n",
        "Incident_Rate            91\n",
        "Case_Fatality_Ratio      41\n",
        "dtype: int64\n",
        "</pre>"
      ]
    },
    {
      "attachments": {},
      "cell_type": "markdown",
      "metadata": {
        "id": "1F22fDD0VEA1"
      },
      "source": [
        "##### Solution"
      ]
    },
    {
      "cell_type": "code",
      "execution_count": null,
      "metadata": {
        "id": "BZ3hwOZzSV-_"
      },
      "outputs": [],
      "source": []
    },
    {
      "attachments": {},
      "cell_type": "markdown",
      "metadata": {
        "id": "kohnUG3A9iii"
      },
      "source": [
        "### Exercise 2\n",
        "\n",
        "Create a Series with the number of deaths for every country.\n",
        "\n",
        "e.g.\n",
        "\n",
        "<pre>\n",
        "Country_Region\n",
        "Afghanistan           1638\n",
        "Albania                637\n",
        "Algeria               2186\n",
        "Andorra                 76\n",
        "Angola                 328\n",
        "                      ... \n",
        "West Bank and Gaza     580\n",
        "Western Sahara           1\n",
        "Yemen                  607\n",
        "Zambia                 353\n",
        "Zimbabwe               260\n",
        "Name: Deaths, Length: 191, dtype: int64\n",
        "</pre>"
      ]
    },
    {
      "attachments": {},
      "cell_type": "markdown",
      "metadata": {
        "id": "KJbyWfgxTyXl"
      },
      "source": [
        "##### Solution"
      ]
    },
    {
      "cell_type": "code",
      "execution_count": null,
      "metadata": {
        "colab": {
          "base_uri": "https://localhost:8080/"
        },
        "id": "afFpVRYp6qTI",
        "outputId": "89b3aa07-c705-4171-c96d-b41afdaa0990"
      },
      "outputs": [],
      "source": []
    },
    {
      "cell_type": "code",
      "execution_count": null,
      "metadata": {
        "colab": {
          "base_uri": "https://localhost:8080/"
        },
        "id": "mzIeCwSISVPk",
        "outputId": "c100ed0d-bcb7-4cc8-e388-9ae86bb39bd4"
      },
      "outputs": [],
      "source": [
        "from IPython.display import display, HTML\n",
        "# display(HTML(covid_data.to_html()))\n",
        "\n",
        "deathsCount = covid_data.set_index([\"Country_Region\",\"Province_State\"]).sort_index().sum(level=\"Country_Region\")\n",
        "# display(HTML(deathsCount.to_html()))\n",
        "deathsCount = deathsCount[\"Deaths\"]\n",
        "# deathsCount = covid_data.set_index([\"Country_Region\")[\"Deaths\"]\n",
        "\n",
        "# deathsCount = covid_data[\"Deaths\"]\n",
        "# deathsCount.index = covid_data[\"Country_Region\"]\n",
        "deathsCount"
      ]
    },
    {
      "attachments": {},
      "cell_type": "markdown",
      "metadata": {
        "id": "qcwXjBulSNyP"
      },
      "source": [
        "### Exercise 3\n",
        "\n",
        "Find all the countries with more deaths than Italy.\n",
        "\n",
        "e.g.\n",
        "\n",
        "<pre>\n",
        "Country_Region\n",
        "Brazil            166699\n",
        "India             130993\n",
        "Mexico             99026\n",
        "US                248672\n",
        "United Kingdom     52839\n",
        "Name: Deaths, dtype: int64\n",
        "</pre>"
      ]
    },
    {
      "attachments": {},
      "cell_type": "markdown",
      "metadata": {
        "id": "FwTE6mf2T-Rc"
      },
      "source": [
        "##### Solution"
      ]
    },
    {
      "cell_type": "code",
      "execution_count": null,
      "metadata": {
        "ExecuteTime": {
          "end_time": "2021-12-02T11:07:35.972966Z",
          "start_time": "2021-12-02T11:07:35.964987Z"
        },
        "id": "KoRLRJvhRrrX"
      },
      "outputs": [],
      "source": []
    },
    {
      "attachments": {},
      "cell_type": "markdown",
      "metadata": {
        "id": "7iShzGDCGoYq"
      },
      "source": [
        "### Exercise 4\n",
        "\n",
        "Find a datasource with the population for each country and find the ratio between deaths and polulation.\n",
        "\n",
        "e.g.\n",
        "\n",
        "<pre>\n",
        "                Deaths\tPopulation\tRatio\n",
        "Country_Region\t\t\t\n",
        "Afghanistan     1638    34656032.0  0.000047\n",
        "Albania         637     2876101.0   0.000221\n",
        "Algeria         2186    40606052.0  0.000054\n",
        "Andorra         76      77281.0     0.000983\n",
        "Angola          328     28813463.0  0.000011\n",
        "...\t...\t...\t...\n",
        "191 rows × 3 columns\n",
        "</pre>"
      ]
    },
    {
      "attachments": {},
      "cell_type": "markdown",
      "metadata": {
        "id": "bET5l_IXUDGE"
      },
      "source": [
        "##### Solution"
      ]
    },
    {
      "cell_type": "code",
      "execution_count": null,
      "metadata": {
        "id": "jKQLZ2PSSTVk"
      },
      "outputs": [],
      "source": []
    },
    {
      "attachments": {},
      "cell_type": "markdown",
      "metadata": {
        "id": "Ox2JXXUeTUmm"
      },
      "source": [
        "### Exercise 5\n",
        "\n",
        "Sort the countries according to the percentage of deaths over population.\n",
        "\n",
        "Any problem with missing data ?"
      ]
    },
    {
      "attachments": {},
      "cell_type": "markdown",
      "metadata": {
        "id": "0oAGfFjjVP-S"
      },
      "source": [
        "##### Solution"
      ]
    },
    {
      "cell_type": "code",
      "execution_count": null,
      "metadata": {
        "colab": {
          "base_uri": "https://localhost:8080/"
        },
        "id": "h5NPjsvP_aMc",
        "outputId": "06743d19-5ba6-4203-f3b7-a1a4e3da3c2a"
      },
      "outputs": [],
      "source": []
    },
    {
      "attachments": {},
      "cell_type": "markdown",
      "metadata": {
        "id": "sLtU98ohJTNn"
      },
      "source": [
        "### Exercise 6\n",
        "\n",
        "Define a strategy to handle missing data / Errors with exercise 5\n",
        "\n",
        "If you did not have any missing data (which I doubt), try with this population table: https://worldpopulationreview.com/countries"
      ]
    },
    {
      "attachments": {},
      "cell_type": "markdown",
      "metadata": {
        "id": "87v_lknwU_sl"
      },
      "source": [
        "##### Solution"
      ]
    },
    {
      "cell_type": "code",
      "execution_count": null,
      "metadata": {
        "colab": {
          "base_uri": "https://localhost:8080/"
        },
        "id": "L3BsWdIQBiek",
        "outputId": "9942d31f-513a-45db-93c5-1a57665af057"
      },
      "outputs": [],
      "source": []
    }
  ],
  "metadata": {
    "colab": {
      "provenance": []
    },
    "kernelspec": {
      "display_name": "myenv",
      "language": "python",
      "name": "python3"
    },
    "language_info": {
      "codemirror_mode": {
        "name": "ipython",
        "version": 3
      },
      "file_extension": ".py",
      "mimetype": "text/x-python",
      "name": "python",
      "nbconvert_exporter": "python",
      "pygments_lexer": "ipython3",
      "version": "3.10.8 (main, Nov 24 2022, 14:13:03) [GCC 11.2.0]"
    },
    "varInspector": {
      "cols": {
        "lenName": 16,
        "lenType": 16,
        "lenVar": 40
      },
      "kernels_config": {
        "python": {
          "delete_cmd_postfix": "",
          "delete_cmd_prefix": "del ",
          "library": "var_list.py",
          "varRefreshCmd": "print(var_dic_list())"
        },
        "r": {
          "delete_cmd_postfix": ") ",
          "delete_cmd_prefix": "rm(",
          "library": "var_list.r",
          "varRefreshCmd": "cat(var_dic_list()) "
        }
      },
      "types_to_exclude": [
        "module",
        "function",
        "builtin_function_or_method",
        "instance",
        "_Feature"
      ],
      "window_display": false
    },
    "vscode": {
      "interpreter": {
        "hash": "7caf7e8d5a0d1d37a8ae16b76ff628ca4f082e132679be3e986659df09303547"
      }
    }
  },
  "nbformat": 4,
  "nbformat_minor": 0
}
